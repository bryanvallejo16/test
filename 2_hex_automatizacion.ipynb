{
 "cells": [
  {
   "cell_type": "markdown",
   "id": "29eed564",
   "metadata": {},
   "source": [
    "## Ejercicio 2\n",
    "\n",
    "Este ejercicio está enfocado en realizar un \"script\" que pueda automatizar el proceso de agregación de datos espaciales.\n",
    "En la carpeta `data_test` usted va a encontrar el dataset necesario para este ejercicio:\n",
    "\n",
    "- EDIFICIOS_CENSALES.shp / capa punto\n",
    "\n",
    "### **Objetivo**\n",
    "\n",
    "Realice un script que agregue (en hexágonos) los edificiones censales del dataset EDIFICIOS_CENSALES.shp. La operación que debe contener cada es hexagono es **conteo**. Usted es libre de escoger la resolución espacial de cada hexagono. La resolución espacial es el \"tamaño\" de cada hexágono y de acuerdo a la escala del dataset (Quito urbano) incluya la resolución que usted considere la mejor.\n",
    "\n",
    "Incluya en su script la opción de guardar el archivo de hexágonos, puede crear una carpeta con nombre `productos` donde puede guardar el archivo.\n",
    "\n",
    "### **Recomendaciones**\n",
    "\n",
    "- Puede añadir varias celdas, no es necesario que incluya todo el script en una sola celda\n",
    "- Incluya comentarios en su codigo, nos ayuda a saber que funcionalidad tiene\n",
    "- Puede usar la documentación de las librerias incluidas para este ejercicio: h3-pandas\n",
    "- Link de documentación: [h3-pandas documentation](https://h3-pandas.readthedocs.io/en/latest/h3pandas.html)\n",
    "- Siga un workflow que sea adecuado (ejemplo: leer datos, preparar datos, visualizar datos, analisis, visualización de producto)\n",
    "- Puede incluir codigo h3 en una columna en la tabla de atributos. (opcional)\n",
    "\n",
    "### **Instrucciones**\n",
    "\n",
    "- Trabaje su script en este repositorio. Y guarde su notebook. **Es necesario** que descargue su notebook para conservar cambios. Este repositorio no guarda cambios.\n",
    "- Si desea continuar su trabajo al día siguiente: descargue su notebook, luego abra nuevamente este repositorio, seleccione y arrastre su notebook descargado y reemplazelo en este repositorio. Luego continue trabajando.\n",
    "\n",
    "### **Productos a entregar**\n",
    "\n",
    "1) Una vez finalizado su script, guarde el notebook, descarguelo. El archivo que debe enviar por email es su notebook descargado. El email es: david.sanchezsoria@gmail.com \n",
    "\n",
    "2) Un mapa, general y muy simple, en este notebook o con cualquier software que desee (Qgis, ArcGIS) donde muestre que su operación fue realizada exitosamente. (Este mapa no tiene calificación y es opcional)\n",
    "\n",
    "3) Un segundo mapa, general y muy simple, con un método de agregación diferente como ***promedio*** con columna ***n_viv***. (Opcional, pero le puede puede dar puntos extras si lo realiza). Si necesita crear un segundo script, añadalo después de su primer script, en este mismo notebook."
   ]
  },
  {
   "cell_type": "code",
   "execution_count": 1,
   "id": "30281f66",
   "metadata": {},
   "outputs": [],
   "source": [
    "import geopandas as gpd\n",
    "import pandas as pd\n",
    "import h3pandas\n",
    "import h3\n",
    "import matplotlib.pyplot as plt"
   ]
  },
  {
   "cell_type": "code",
   "execution_count": null,
   "id": "76818283",
   "metadata": {},
   "outputs": [],
   "source": []
  }
 ],
 "metadata": {
  "kernelspec": {
   "display_name": "Python 3 (ipykernel)",
   "language": "python",
   "name": "python3"
  },
  "language_info": {
   "codemirror_mode": {
    "name": "ipython",
    "version": 3
   },
   "file_extension": ".py",
   "mimetype": "text/x-python",
   "name": "python",
   "nbconvert_exporter": "python",
   "pygments_lexer": "ipython3",
   "version": "3.8.12"
  }
 },
 "nbformat": 4,
 "nbformat_minor": 5
}
