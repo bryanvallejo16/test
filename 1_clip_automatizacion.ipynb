{
 "cells": [
  {
   "cell_type": "markdown",
   "id": "19b21f32",
   "metadata": {},
   "source": [
    "## Ejercicio 1\n",
    "\n",
    "Este ejercicio está enfocado en realizar un \"script\" que pueda automatizar el proceso de extracción de datos espaciales.\n",
    "En la carpeta `data_test` usted va a encontrar dos datasets:\n",
    "\n",
    "- POLIGONOS.shp / capa poligono\n",
    "- EDIFICIOS_CENSALES.shp / capa punto\n",
    "\n",
    "### **Objetivo**\n",
    "\n",
    "Realice un script que extraiga (clip) edificios censales del dataset EDIFICIOS_CENSALES.shp, con **CADA UNO** de los poligonos que tiene en el dataset POLIGONOS.shp\n",
    "\n",
    "Incluya en el script la opción de guardar cada una de las extracciones (284 files en total) en archivo gpkg o shp. Puede crear una nueva carpeta en este repositorio con nombre `productos` en donde puede guardar los archivos.\n",
    "\n",
    "### **Recomendaciones**\n",
    "\n",
    "- Realice la extracción en un loop\n",
    "- Añade en el nombre de cada extacción un código enlazado al poligono que realizó el recorte (Opcional)\n",
    "- Puede añadir varias celdas, no es necesario que incluya todo el script en una sola celda\n",
    "- Incluya comentarios en su codigo, nos ayuda a saber que funcionalidad tiene\n",
    "- Puede usar la documentación de las librerias incluidas para este ejercicio: geopandas\n",
    "- Siga un workflow que sea adecuado (ejemplo: leer datos, preparar datos, visualizar datos, analisis, visualización de producto)\n",
    "\n",
    "### **Instrucciones**\n",
    "\n",
    "- Trabaje su script en este repositorio. Y guarde su notebook. **Es necesario** que descargue su notebook para conservar cambios. Este repositorio no guarda cambios.\n",
    "- Si desea continuar su trabajo al día siguiente: descargue su notebook, luego abra nuevamente este repositorio, seleccione y arrastre su notebook descargado y reemplazelo en este repositorio. Luego continue trabajando.\n",
    "\n",
    "### **Productos a entregar**\n",
    "\n",
    "1) Una vez finalizado su script, guarde el notebook, descarguelo. El archivo que debe enviar por email es su notebook descargado. El email es: david.sanchezsoria@gmail.com \n",
    "\n",
    "2) Un mapa, general y muy simple, en este notebook o con cualquier software que desee (Qgis, ArcGIS) donde muestre que su operación fue realizada exitosamente. (Este mapa no tiene calificación y es opcional)"
   ]
  },
  {
   "cell_type": "code",
   "execution_count": 3,
   "id": "bf02ca0a",
   "metadata": {},
   "outputs": [],
   "source": [
    "import geopandas as gpd\n",
    "import pandas as pd\n",
    "import matplotlib.pyplot as plt"
   ]
  },
  {
   "cell_type": "code",
   "execution_count": null,
   "id": "82e7ff31",
   "metadata": {},
   "outputs": [],
   "source": []
  }
 ],
 "metadata": {
  "kernelspec": {
   "display_name": "Python 3 (ipykernel)",
   "language": "python",
   "name": "python3"
  },
  "language_info": {
   "codemirror_mode": {
    "name": "ipython",
    "version": 3
   },
   "file_extension": ".py",
   "mimetype": "text/x-python",
   "name": "python",
   "nbconvert_exporter": "python",
   "pygments_lexer": "ipython3",
   "version": "3.8.12"
  }
 },
 "nbformat": 4,
 "nbformat_minor": 5
}
